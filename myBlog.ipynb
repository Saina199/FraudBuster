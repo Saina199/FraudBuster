{
 "cells": [
  {
   "cell_type": "markdown",
   "metadata": {},
   "source": [
    "# Mobile App Fraud Detection"
   ]
  },
  {
   "cell_type": "markdown",
   "metadata": {},
   "source": [
    "This project is to model a fraud detector for a sneaker mobile app market place. The company launced in April 2015 and has been competeing successfully in the market. The mission of this company is to provide a safe platform for sneaker lovers to sell and buy sneakers.  The company achieves this goal by inspecting the sneakers that are received from sellers before shipping them to the buyers. "
   ]
  },
  {
   "cell_type": "markdown",
   "metadata": {},
   "source": [
    "This mobile app marketplace deals with fraud like any other online marketplace.  Security and, of course, identification of legitimate user behavior are crucial to any mobile-app marketplace.  The company has been experiencing fraud in different forms.  One form of fraud on this mobile-app is when the seller attempts to sell the fake sneaker as a genuine pair.  The other form of fraud is very simillar to many fraudulent orders when fraudster pays using stolen credit card information.  In such cases, the buyer might intend to resell the sneakers for higher price.  Either way, the occurrences of such activities are harmful to the reputation of the marketplace: the valuable customers might feel unsafe using this platform for their transaction."
   ]
  },
  {
   "cell_type": "markdown",
   "metadata": {},
   "source": [
    "# Some Facts"
   ]
  },
  {
   "cell_type": "markdown",
   "metadata": {},
   "source": [
    " The company's database which has been logged for about 18 months (upto the start of this project), includes slightly less than 110K completed orders to be studied in this work.  This number of orders has been placed by 29895 user ids.  No order can be placed on this app without logging in through a user account.  The given database includes 36 tables with 15 columns each on average.  Although getting through all this could become tedious, it is important to make sure if any dimension of data could signify some relevancy to the characteristics of the order.  I went through every field one by one and decided if such data could reveal any specific information regarding the order.  Note that sometimes not the field by itself but its relation to another field could build up a new property that could help with the purpose of the project.  This was the case for some features that I ended up engineering and will be discussed later."
   ]
  },
  {
   "cell_type": "markdown",
   "metadata": {},
   "source": [
    "# Existing Model"
   ]
  },
  {
   "cell_type": "markdown",
   "metadata": {},
   "source": [
    "Currently, th company identifies the fraudualent orders through a multistage process.  30% of the orders that are placed using credit card are being verified by a third-party.  The other 70% of orders are placed using PayPal and being verified using PayPal protection.  Finally, the company investigates the suspicious orders manually to finalize the verification.  The integration of such information from different sources is not the most efficient system.  A unified, automated system that investigate this entire process in an efficient way is highly desired. \n",
    "\n",
    "Let us first find out how is the current system doing in terms of distinguishing between healthy and fraud orders. The existing system works in two steps.  The first step is when riskified does its own tracking and identifies the fraud versus non-frauds.  There are identified frauds at this point which are redirected to the employees to verify them manually.  Riskified does about 74% recall but its precision is really low (30%).  This means that a lot of false positive pops up which creates unnecessary work for GOAT. In the second step, GOAT goes through paypal verification as well and in total comes up with 52% recall and 8.7% false positive rate. "
   ]
  },
  {
   "cell_type": "markdown",
   "metadata": {},
   "source": [
    "# My Model (FraudBuster)"
   ]
  },
  {
   "cell_type": "markdown",
   "metadata": {},
   "source": [
    "Here it comes the model that I have developed for GOAT.  GOAT database is huge and collects more information than only order related data that is currently considered to verify frauds.  Information such as the activity of the user, some limited personal information, and data related to the sneakers could play an important role in classifying between the fraudulent and non-fraudulent activities.  However, some other features like price which would sound important at the first glance, turned out to be not as important as initially expected.  "
   ]
  },
  {
   "cell_type": "markdown",
   "metadata": {},
   "source": [
    "In the pipeline of my fraud detection, data exploration and feature selection and engineering get the highest credit credit for the performance.  It is important to remember not all the data is appropriate in this pipeline, as a lot of information defining an order comes after the order has been actually investigated throughly.  Since, the problem is to verify the order as it takes place, only part of teh data that could be pulled at this time is appropriate for investigation.  This is to avoid training a model that overfits to over-fact data than realistic data. For example, there are specific data on the timestamp of acceptance of an order, confirming the shipment and status of the sneakers which could only be collected long (hours or days) after the order is been taken place.  \n",
    "\n",
    "Here, we are more interested in data that directly relates to the buyer or seller, the sneakers, and of course the order's specification. "
   ]
  },
  {
   "cell_type": "code",
   "execution_count": 1,
   "metadata": {
    "collapsed": true
   },
   "outputs": [],
   "source": [
    "##### pipeline slide"
   ]
  },
  {
   "cell_type": "markdown",
   "metadata": {},
   "source": [
    "# Database"
   ]
  },
  {
   "cell_type": "markdown",
   "metadata": {},
   "source": [
    " \n",
    "\n",
    "Another important note is that to only consider the fields that could only be known right after the order is being placed.  For example, some fields have information regarding the time that the buyer or seller confirm the order, or if they cancel it for some reason.  Although these information are related to the status of the order, they cannot be gained at the same time as the order being placed.  "
   ]
  },
  {
   "cell_type": "markdown",
   "metadata": {
    "collapsed": true
   },
   "source": [
    "# Feature Selection and Engineering"
   ]
  },
  {
   "cell_type": "markdown",
   "metadata": {},
   "source": [
    "In a case where you want to identify between your fraudesters and non-fraudsters, diving deep into most records of your database carefully and evaluating if such relationship exists is very important.  That was actually the case for me in this project.  I realized that I can only come up with a model if I first find out what are those features that can differ in case of a fraud event.  This could become a difficult task if you do not start from a bigger picture.  \n",
    "\n",
    "The first important step is to decide where to start.  So let's go back to the first step.  We are at the middle of an event happening which is an order taking place.  The question is, if this order is legitimate.  To address this question, we have to see what information do we have at this exact moment.  Here is why I decided to divide the information on every transaction to three pools: order information, user information and the sneaker information.  The order informatiom comes at the time of even; infomration such as billing and shipping addresses, the IP address, and the device being used to place the order.  The other source of information is the user.  Every order is an event that is not possible unless a user has created an account to make that event. This brings alother source of information which we could take advantage of.  Every user could get associated with the number of signing in to GOAT mobile app. They might leave out some information on their social network (ie. instagram and twitter). In addition, the user could also be identified by their device, their previous IP address, and if they are interested in buying or selling higher number of sneakers.  This is probably a stronger feature to identify legitimate "
   ]
  }
 ],
 "metadata": {
  "anaconda-cloud": {},
  "kernelspec": {
   "display_name": "Python [Root]",
   "language": "python",
   "name": "Python [Root]"
  },
  "language_info": {
   "codemirror_mode": {
    "name": "ipython",
    "version": 2
   },
   "file_extension": ".py",
   "mimetype": "text/x-python",
   "name": "python",
   "nbconvert_exporter": "python",
   "pygments_lexer": "ipython2",
   "version": "2.7.12"
  }
 },
 "nbformat": 4,
 "nbformat_minor": 0
}
