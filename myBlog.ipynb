{
 "cells": [
  {
   "cell_type": "markdown",
   "metadata": {},
   "source": [
    "# GOAT Fraud Detection"
   ]
  },
  {
   "cell_type": "markdown",
   "metadata": {},
   "source": [
    "GOAT is a mobile app marketplace to buy and sell sneakers based in LA. The company launced in April 2015 and has been competeing well in the mark since. What distinguishes GOAT from other mobile marketplaces is its mission to provide a safe platform for users to buy and sell sneakers. GOAT manually inspects the sneakers that are pricier (>$300) that are received from sellers and ship them to the buyers if everything looks good. "
   ]
  },
  {
   "cell_type": "markdown",
   "metadata": {},
   "source": [
    "GOAT deals with fraud like any other online marketplace. However, since GOAT's mission is a safe marketplace, any fraud associated to GOAT cost them financially as well as reputationally.  GOAT has been experiencing fraud in different forms.  The fraud could happen through selling a fake shoes.  GOAT spends a lot of consideration to make sure the images of the shoes are real.  The other form of fraud is very simillar to many fraudulent orders when some users are not using their own credit card.  In those cases, the user is maily plannign to either sell the purchased sneaker through GOAT or outside. In either way, the occurrences of such activities could hurt the reputation of GOAT and make the true customers of GOAT to feel unsafe using GOAT's platform for their transaction.  One last but not least form of fraud that has been observed was when the seller and buyer hook up together and one buys other's sneaker (normally more expensive than average) and return it and ask for refund.  GOAT loses in this case, since they gauarantee the buyer's full refund for most sneakers of higher end.  "
   ]
  },
  {
   "cell_type": "markdown",
   "metadata": {},
   "source": [
    "# Some Facts"
   ]
  },
  {
   "cell_type": "markdown",
   "metadata": {},
   "source": [
    "No order can be placed on GOAT app without logging in through a user account.  GOAT's database which has been logged for about 18 months now, includes 109287 completed orders to be studied in this work.  This number of orders has been placed by 29895 user ids. "
   ]
  },
  {
   "cell_type": "markdown",
   "metadata": {},
   "source": [
    "# Existing Model"
   ]
  },
  {
   "cell_type": "markdown",
   "metadata": {},
   "source": [
    "Currently, the fraud investigation at the GOAT is a multistage process.  GOAT verfies the orders that are placed by credit card using  a commercialized package. This would includes 30% of orders. The other 70% of the orders are placed using PayPal which PayPal provide its own protection on order verification. Finally, GOAT investigates the suspicious orders manually to finalize the verification.  Obvious, this entire process is not the most efficient system and obviously a unified, automated system that investigate this entire process automatically is highly desired. \n",
    "\n",
    "Let us first find out how is the current system doing in terms of distinguishing between healthy and fraud orders. The existing system works in two steps.  The first step is when riskified does its own tracking and identifies the fraud versus non-frauds.  There are identified frauds at this point which are redirected to the employees to verify them manually.  Riskified does about 74% recall but its precision is really low (30%).  This means that a lot of false positive pops up which creates unnecessary work for GOAT. In the second step, GOAT goes through paypal verification as well and in total comes up with 52% recall and 8.7% false positive rate. "
   ]
  },
  {
   "cell_type": "markdown",
   "metadata": {},
   "source": [
    "# My Model (FraudBuster)"
   ]
  },
  {
   "cell_type": "markdown",
   "metadata": {},
   "source": [
    "Here it comes the model that I have developed for GOAT.  GOAT database is huge and collects more information than only order related data that is currently considered to verify frauds.  Information such as the activity of the user, some limited personal information, and data related to the sneakers could play an important role in classifying between the fraudulent and non-fraudulent activities.  However, some other features like price which would sound important at the first glance, turned out to be not as important as initially expected.  "
   ]
  },
  {
   "cell_type": "markdown",
   "metadata": {},
   "source": [
    "In the pipeline of my fraud detection, data exploration and feature selection and engineering get the highest credit credit for the performance.  It is important to remember not all the data is appropriate in this pipeline, as a lot of information defining an order comes after the order has been actually investigated throughly.  Since, the problem is to verify the order as it takes place, only part of teh data that could be pulled at this time is appropriate for investigation.  This is to avoid training a model that overfits to over-fact data than realistic data. For example, there are specific data on the timestamp of acceptance of an order, confirming the shipment and status of the sneakers which could only be collected long (hours or days) after the order is been taken place.  \n",
    "\n",
    "Here, we are more interested in data that directly relates to the buyer or seller, the sneakers, and of course the order's specification. "
   ]
  },
  {
   "cell_type": "code",
   "execution_count": 1,
   "metadata": {
    "collapsed": true
   },
   "outputs": [],
   "source": [
    "##### pipeline slide"
   ]
  },
  {
   "cell_type": "markdown",
   "metadata": {},
   "source": [
    "# Database"
   ]
  },
  {
   "cell_type": "markdown",
   "metadata": {},
   "source": [
    "GOAT database includes 89 tables with 15 columns each on average.  Although, getting through all this could become tedious, it is important to make sure if any field could signify some relevancy to the characteristics of the order.  I went through every field one by one and decided if such and such information could reveal any specific information regarding the order.  Note that sometimes not the field by itself but its relation to another field could build up a new property that could help with the purpose of the project.  This was the case for some features that I ended up engineering and will be discussed later. "
   ]
  }
 ],
 "metadata": {
  "anaconda-cloud": {},
  "kernelspec": {
   "display_name": "Python [Root]",
   "language": "python",
   "name": "Python [Root]"
  },
  "language_info": {
   "codemirror_mode": {
    "name": "ipython",
    "version": 2
   },
   "file_extension": ".py",
   "mimetype": "text/x-python",
   "name": "python",
   "nbconvert_exporter": "python",
   "pygments_lexer": "ipython2",
   "version": "2.7.12"
  }
 },
 "nbformat": 4,
 "nbformat_minor": 0
}
